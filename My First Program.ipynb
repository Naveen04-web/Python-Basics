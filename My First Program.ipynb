{
 "cells": [
  {
   "cell_type": "markdown",
   "id": "027ce765",
   "metadata": {},
   "source": [
    "### Print Function"
   ]
  },
  {
   "cell_type": "code",
   "execution_count": 4,
   "id": "d6718271",
   "metadata": {},
   "outputs": [
    {
     "name": "stdout",
     "output_type": "stream",
     "text": [
      "Hello Naveen!, Welcome to Python Tutorials\n"
     ]
    }
   ],
   "source": [
    "# syntax for print function is print(\"your message\")\n",
    "print(\"Hello Naveen!, Welcome to Python Tutorials\")"
   ]
  },
  {
   "cell_type": "code",
   "execution_count": null,
   "id": "a95c63d9",
   "metadata": {},
   "outputs": [
    {
     "name": "stdout",
     "output_type": "stream",
     "text": [
      "5\n"
     ]
    }
   ],
   "source": [
    "# to run/execute the code, use SHIFT+ENTER\n",
    "a = 5\n",
    "print(a)"
   ]
  },
  {
   "cell_type": "markdown",
   "id": "4634f9b0",
   "metadata": {},
   "source": [
    "### Declaring Variables\n",
    "Python supports the following 4 types of variables\n",
    "1. int -integer type\n",
    "2. float -floating point numbers (decimal numbers)\n",
    "3. bool -Boolean type (TRUE or FALSE)\n",
    "4. str -Textual data"
   ]
  },
  {
   "cell_type": "code",
   "execution_count": 6,
   "id": "c51e0927",
   "metadata": {},
   "outputs": [],
   "source": [
    "var1 = 2\n",
    "var2 = 5.0\n",
    "var3 = True\n",
    "var4 = \"Machine Learning\""
   ]
  },
  {
   "cell_type": "code",
   "execution_count": 7,
   "id": "6517dcca",
   "metadata": {},
   "outputs": [
    {
     "name": "stdout",
     "output_type": "stream",
     "text": [
      "The value of var1: 2\n",
      "The value of var2: 5.0\n",
      "The value of var3: True\n",
      "The value of var4: Machine Learning\n"
     ]
    }
   ],
   "source": [
    "print(\"The value of var1:\",var1)\n",
    "print(\"The value of var2:\",var2)\n",
    "print(\"The value of var3:\",var3)\n",
    "print(\"The value of var4:\",var4)"
   ]
  },
  {
   "cell_type": "markdown",
   "id": "667e632e",
   "metadata": {},
   "source": [
    "To find the type of the variable, we use the type() method"
   ]
  },
  {
   "cell_type": "code",
   "execution_count": 10,
   "id": "69847050",
   "metadata": {},
   "outputs": [
    {
     "data": {
      "text/plain": [
       "int"
      ]
     },
     "execution_count": 10,
     "metadata": {},
     "output_type": "execute_result"
    }
   ],
   "source": [
    "type(var1)"
   ]
  },
  {
   "cell_type": "code",
   "execution_count": 11,
   "id": "204ee2b6",
   "metadata": {},
   "outputs": [
    {
     "data": {
      "text/plain": [
       "float"
      ]
     },
     "execution_count": 11,
     "metadata": {},
     "output_type": "execute_result"
    }
   ],
   "source": [
    "type(var2)"
   ]
  },
  {
   "cell_type": "code",
   "execution_count": 12,
   "id": "581d3cb0",
   "metadata": {},
   "outputs": [
    {
     "data": {
      "text/plain": [
       "bool"
      ]
     },
     "execution_count": 12,
     "metadata": {},
     "output_type": "execute_result"
    }
   ],
   "source": [
    "type(var3)"
   ]
  },
  {
   "cell_type": "code",
   "execution_count": 13,
   "id": "bcb85b14",
   "metadata": {},
   "outputs": [
    {
     "data": {
      "text/plain": [
       "str"
      ]
     },
     "execution_count": 13,
     "metadata": {},
     "output_type": "execute_result"
    }
   ],
   "source": [
    "type(var4)"
   ]
  },
  {
   "cell_type": "markdown",
   "id": "636cd35b",
   "metadata": {},
   "source": [
    "### Conditional Statements\n",
    "Python supports if-elif-else for writing conditional statements"
   ]
  },
  {
   "cell_type": "code",
   "execution_count": 14,
   "id": "f494eecc",
   "metadata": {},
   "outputs": [
    {
     "name": "stdout",
     "output_type": "stream",
     "text": [
      "Bigger than 1\n"
     ]
    }
   ],
   "source": [
    "# simple if condition\n",
    "if var1>1:\n",
    "    print(\"Bigger than 1\")"
   ]
  },
  {
   "cell_type": "code",
   "execution_count": 17,
   "id": "ee0e3246",
   "metadata": {},
   "outputs": [
    {
     "name": "stdout",
     "output_type": "stream",
     "text": [
      " x < y\n"
     ]
    }
   ],
   "source": [
    "x = 10\n",
    "y = 12\n",
    "# if x is greater than y\n",
    "if x>y:\n",
    "    print(\" x > y\")\n",
    "#if x is lesser than y\n",
    "elif x<y:\n",
    "    print(\" x < y\")\n",
    "else:\n",
    "    print(\" x = y\")"
   ]
  },
  {
   "cell_type": "markdown",
   "id": "3a5d8f2c",
   "metadata": {},
   "source": [
    "### Generating Sequence Numbers"
   ]
  },
  {
   "cell_type": "code",
   "execution_count": 22,
   "id": "ebc6f72c",
   "metadata": {},
   "outputs": [
    {
     "data": {
      "text/plain": [
       "range(1, 10)"
      ]
     },
     "execution_count": 22,
     "metadata": {},
     "output_type": "execute_result"
    }
   ],
   "source": [
    "# range() function generates a sequence of numbers\n",
    "numbers_set1 = range(1,10)\n",
    "numbers_set1"
   ]
  },
  {
   "cell_type": "markdown",
   "id": "ff2f9c05",
   "metadata": {},
   "source": [
    "range() function starts with the number of the sequence and generate numbers upto, but not including the end number. The step (difference between each number) is optional and by defalut it is 1"
   ]
  },
  {
   "cell_type": "code",
   "execution_count": 23,
   "id": "6a723899",
   "metadata": {},
   "outputs": [
    {
     "data": {
      "text/plain": [
       "range(1, 10, 2)"
      ]
     },
     "execution_count": 23,
     "metadata": {},
     "output_type": "execute_result"
    }
   ],
   "source": [
    "numbers_set2 = range(1,10,2)\n",
    "numbers_set2"
   ]
  },
  {
   "cell_type": "markdown",
   "id": "52e0d2a5",
   "metadata": {},
   "source": [
    "### for loop"
   ]
  },
  {
   "cell_type": "code",
   "execution_count": 24,
   "id": "6ee8a743",
   "metadata": {},
   "outputs": [
    {
     "name": "stdout",
     "output_type": "stream",
     "text": [
      "1\n",
      "2\n",
      "3\n",
      "4\n",
      "5\n",
      "6\n",
      "7\n",
      "8\n",
      "9\n"
     ]
    }
   ],
   "source": [
    "for i in numbers_set1:\n",
    "    print(i)"
   ]
  },
  {
   "cell_type": "code",
   "execution_count": 25,
   "id": "8738dde2",
   "metadata": {},
   "outputs": [
    {
     "name": "stdout",
     "output_type": "stream",
     "text": [
      "1\n",
      "3\n",
      "5\n",
      "7\n",
      "9\n"
     ]
    }
   ],
   "source": [
    "for i in numbers_set2:\n",
    "    print(i)"
   ]
  },
  {
   "cell_type": "markdown",
   "id": "43d82d83",
   "metadata": {},
   "source": [
    "### While loop\n",
    "while loop keep executing untill a condition is false"
   ]
  },
  {
   "cell_type": "code",
   "execution_count": 26,
   "id": "4c1712db",
   "metadata": {},
   "outputs": [
    {
     "name": "stdout",
     "output_type": "stream",
     "text": [
      "1\n",
      "2\n",
      "3\n",
      "4\n",
      "Done\n"
     ]
    }
   ],
   "source": [
    "# intialize the value of i\n",
    "i = 1\n",
    "# check the value of i to check the if loop will be continued or not\n",
    "while i < 5:\n",
    "    print(i)\n",
    "    i = i+1\n",
    "# print after the value of i\n",
    "print(\"Done\")\n"
   ]
  },
  {
   "cell_type": "code",
   "execution_count": null,
   "id": "6aa167af",
   "metadata": {},
   "outputs": [],
   "source": []
  }
 ],
 "metadata": {
  "kernelspec": {
   "display_name": "Python 3",
   "language": "python",
   "name": "python3"
  },
  "language_info": {
   "codemirror_mode": {
    "name": "ipython",
    "version": 3
   },
   "file_extension": ".py",
   "mimetype": "text/x-python",
   "name": "python",
   "nbconvert_exporter": "python",
   "pygments_lexer": "ipython3",
   "version": "3.14.0"
  }
 },
 "nbformat": 4,
 "nbformat_minor": 5
}
