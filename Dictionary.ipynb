{
 "cells": [
  {
   "cell_type": "markdown",
   "id": "e1e8dc97",
   "metadata": {},
   "source": [
    "### Dictionary\n",
    "* It is a list of Key and value pairs\n",
    "* All the keys in a dictionary are unique\n",
    "* The value of the specific dictionary element can be accessed by key\n",
    "* it used curly braces and the form is key:value and each is separated by a comma"
   ]
  },
  {
   "cell_type": "code",
   "execution_count": 2,
   "id": "9f9251b5",
   "metadata": {},
   "outputs": [
    {
     "data": {
      "text/plain": [
       "{1975: 'West Indies',\n",
       " 1979: 'West Indies',\n",
       " 1983: 'India',\n",
       " 1987: 'Australia',\n",
       " 1991: 'Pakistan',\n",
       " 1996: 'Sri Lanka',\n",
       " 1999: 'Australia',\n",
       " 2003: 'Australia',\n",
       " 2007: 'Australia',\n",
       " 2011: 'India'}"
      ]
     },
     "execution_count": 2,
     "metadata": {},
     "output_type": "execute_result"
    }
   ],
   "source": [
    "# Consider the example of year and country(winner) of the world cup\n",
    "wcwinners = { \n",
    "    1975: \"West Indies\",\n",
    "    1979: \"West Indies\",\n",
    "    1983: \"India\",\n",
    "    1987: \"Australia\",\n",
    "    1991: \"Pakistan\",\n",
    "    1996: \"Sri Lanka\",\n",
    "    1999: \"Australia\",\n",
    "    2003: \"Australia\",\n",
    "    2007: \"Australia\",\n",
    "    2011: \"India\"\n",
    "\n",
    "            }\n",
    "wcwinners"
   ]
  },
  {
   "cell_type": "code",
   "execution_count": 3,
   "id": "eb10e3ff",
   "metadata": {},
   "outputs": [
    {
     "data": {
      "text/plain": [
       "'India'"
      ]
     },
     "execution_count": 3,
     "metadata": {},
     "output_type": "execute_result"
    }
   ],
   "source": [
    "wcwinners[2011]"
   ]
  },
  {
   "cell_type": "markdown",
   "id": "7da89fe8",
   "metadata": {},
   "source": [
    "### List of all values can be accessed by values() method"
   ]
  },
  {
   "cell_type": "code",
   "execution_count": 4,
   "id": "44978873",
   "metadata": {},
   "outputs": [
    {
     "data": {
      "text/plain": [
       "dict_values(['West Indies', 'West Indies', 'India', 'Australia', 'Pakistan', 'Sri Lanka', 'Australia', 'Australia', 'Australia', 'India'])"
      ]
     },
     "execution_count": 4,
     "metadata": {},
     "output_type": "execute_result"
    }
   ],
   "source": [
    "wcwinners.values()"
   ]
  },
  {
   "cell_type": "markdown",
   "id": "8bd3619f",
   "metadata": {},
   "source": [
    "Dictionary can be converted into sets to remove the repeatedness"
   ]
  },
  {
   "cell_type": "code",
   "execution_count": 5,
   "id": "b7354773",
   "metadata": {},
   "outputs": [
    {
     "data": {
      "text/plain": [
       "{'Australia', 'India', 'Pakistan', 'Sri Lanka', 'West Indies'}"
      ]
     },
     "execution_count": 5,
     "metadata": {},
     "output_type": "execute_result"
    }
   ],
   "source": [
    "set(wcwinners.values())"
   ]
  }
 ],
 "metadata": {
  "kernelspec": {
   "display_name": "Python 3",
   "language": "python",
   "name": "python3"
  },
  "language_info": {
   "codemirror_mode": {
    "name": "ipython",
    "version": 3
   },
   "file_extension": ".py",
   "mimetype": "text/x-python",
   "name": "python",
   "nbconvert_exporter": "python",
   "pygments_lexer": "ipython3",
   "version": "3.14.0"
  }
 },
 "nbformat": 4,
 "nbformat_minor": 5
}
