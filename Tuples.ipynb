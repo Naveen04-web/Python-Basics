{
 "cells": [
  {
   "cell_type": "markdown",
   "id": "a37d1b69",
   "metadata": {},
   "source": [
    "### Tuples\n",
    "* It is also a list but it is immutable\n",
    "* Once Tuple has been created it cannot be modified\n",
    "* Tuple element's index also starts with 0\n",
    "* Tuple uses the closed brackets ( )\n",
    "* Existing list can be converted into tuple"
   ]
  },
  {
   "cell_type": "markdown",
   "id": "fbbbeeeb",
   "metadata": {},
   "source": [
    "### Lets work with our existing list"
   ]
  },
  {
   "cell_type": "code",
   "execution_count": 1,
   "id": "09339d9e",
   "metadata": {},
   "outputs": [],
   "source": [
    "# list of batsmen and bowlers in Indian cricket team\n",
    "batsmen = ['Rohit','Kohli','Dhoni','Gil','Hardik']\n",
    "bowlers = ['Bumrah', 'Shami', 'Jaddu','Kuldeep','Chahal']"
   ]
  },
  {
   "cell_type": "code",
   "execution_count": 2,
   "id": "fb29bf55",
   "metadata": {},
   "outputs": [
    {
     "data": {
      "text/plain": [
       "['Rohit', 'Kohli', 'Dhoni', 'Gil', 'Hardik']"
      ]
     },
     "execution_count": 2,
     "metadata": {},
     "output_type": "execute_result"
    }
   ],
   "source": [
    "batsmen"
   ]
  },
  {
   "cell_type": "code",
   "execution_count": 4,
   "id": "1fda5461",
   "metadata": {},
   "outputs": [
    {
     "data": {
      "text/plain": [
       "['Rohit',\n",
       " 'Kohli',\n",
       " 'Dhoni',\n",
       " 'Gil',\n",
       " 'Hardik',\n",
       " 'Bumrah',\n",
       " 'Shami',\n",
       " 'Jaddu',\n",
       " 'Kuldeep',\n",
       " 'Chahal']"
      ]
     },
     "execution_count": 4,
     "metadata": {},
     "output_type": "execute_result"
    }
   ],
   "source": [
    "all_players= batsmen + bowlers\n",
    "all_players"
   ]
  },
  {
   "cell_type": "code",
   "execution_count": 6,
   "id": "9acacafa",
   "metadata": {},
   "outputs": [
    {
     "data": {
      "text/plain": [
       "('Rohit',\n",
       " 'Kohli',\n",
       " 'Dhoni',\n",
       " 'Gil',\n",
       " 'Hardik',\n",
       " 'Bumrah',\n",
       " 'Shami',\n",
       " 'Jaddu',\n",
       " 'Kuldeep',\n",
       " 'Chahal')"
      ]
     },
     "execution_count": 6,
     "metadata": {},
     "output_type": "execute_result"
    }
   ],
   "source": [
    "# Convert into tuple\n",
    "Players = tuple(all_players)\n",
    "Players"
   ]
  },
  {
   "cell_type": "code",
   "execution_count": 7,
   "id": "a98c23b2",
   "metadata": {},
   "outputs": [
    {
     "data": {
      "text/plain": [
       "'Bumrah'"
      ]
     },
     "execution_count": 7,
     "metadata": {},
     "output_type": "execute_result"
    }
   ],
   "source": [
    "Players[5]"
   ]
  },
  {
   "cell_type": "code",
   "execution_count": 8,
   "id": "5e7f9516",
   "metadata": {},
   "outputs": [
    {
     "data": {
      "text/plain": [
       "('Dhoni', 'Gil', 'Hardik', 'Bumrah', 'Shami')"
      ]
     },
     "execution_count": 8,
     "metadata": {},
     "output_type": "execute_result"
    }
   ],
   "source": [
    "Players[2:7]"
   ]
  },
  {
   "cell_type": "markdown",
   "id": "b43521ae",
   "metadata": {},
   "source": [
    "### Immutability of tuple"
   ]
  },
  {
   "cell_type": "code",
   "execution_count": 10,
   "id": "bdfe6796",
   "metadata": {},
   "outputs": [
    {
     "ename": "TypeError",
     "evalue": "'tuple' object does not support item assignment",
     "output_type": "error",
     "traceback": [
      "\u001b[31m---------------------------------------------------------------------------\u001b[39m",
      "\u001b[31mTypeError\u001b[39m                                 Traceback (most recent call last)",
      "\u001b[36mCell\u001b[39m\u001b[36m \u001b[39m\u001b[32mIn[10]\u001b[39m\u001b[32m, line 1\u001b[39m\n\u001b[32m----> \u001b[39m\u001b[32m1\u001b[39m \u001b[43mPlayers\u001b[49m\u001b[43m[\u001b[49m\u001b[32;43m0\u001b[39;49m\u001b[43m]\u001b[49m=\u001b[33m'\u001b[39m\u001b[33mRohit Sharma\u001b[39m\u001b[33m'\u001b[39m \u001b[38;5;66;03m#Change element\u001b[39;00m\n\u001b[32m      2\u001b[39m Players\n",
      "\u001b[31mTypeError\u001b[39m: 'tuple' object does not support item assignment"
     ]
    }
   ],
   "source": [
    "Players[0]='Rohit Sharma' #Change element\n",
    "Players"
   ]
  },
  {
   "cell_type": "markdown",
   "id": "f715e9ad",
   "metadata": {},
   "source": [
    "### Creating new tuple"
   ]
  },
  {
   "cell_type": "code",
   "execution_count": 12,
   "id": "3cf621d6",
   "metadata": {},
   "outputs": [
    {
     "data": {
      "text/plain": [
       "('MDI-Gurgaon', 'IIM-A,B,C', 'ISB-Hyderabad', 'IIM-Lucknow', 'IIT-Mumbai')"
      ]
     },
     "execution_count": 12,
     "metadata": {},
     "output_type": "execute_result"
    }
   ],
   "source": [
    "MBA_Colleges=('MDI-Gurgaon','IIM-A,B,C','ISB-Hyderabad','IIM-Lucknow','IIT-Mumbai')\n",
    "MBA_Colleges"
   ]
  },
  {
   "cell_type": "code",
   "execution_count": 13,
   "id": "b8bc48c8",
   "metadata": {},
   "outputs": [
    {
     "data": {
      "text/plain": [
       "'IIM-Lucknow'"
      ]
     },
     "execution_count": 13,
     "metadata": {},
     "output_type": "execute_result"
    }
   ],
   "source": [
    "MBA_Colleges[-2]"
   ]
  }
 ],
 "metadata": {
  "kernelspec": {
   "display_name": "Python 3",
   "language": "python",
   "name": "python3"
  },
  "language_info": {
   "codemirror_mode": {
    "name": "ipython",
    "version": 3
   },
   "file_extension": ".py",
   "mimetype": "text/x-python",
   "name": "python",
   "nbconvert_exporter": "python",
   "pygments_lexer": "ipython3",
   "version": "3.14.0"
  }
 },
 "nbformat": 4,
 "nbformat_minor": 5
}
