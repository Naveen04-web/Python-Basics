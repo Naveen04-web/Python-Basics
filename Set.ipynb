{
 "cells": [
  {
   "cell_type": "markdown",
   "id": "17ff2511",
   "metadata": {},
   "source": [
    "### Set\n",
    "* It is a collection/list of unique elements\n",
    "* The elements can be repeated\n",
    "* Here we use curly braces { } to intialize the set\n",
    "* The set automatically removes duplicates and contain only unique list of numbers/elements\n",
    "* The set supports operations such as union, intersection, and difference"
   ]
  },
  {
   "cell_type": "code",
   "execution_count": 1,
   "id": "e43eb73b",
   "metadata": {},
   "outputs": [
    {
     "data": {
      "text/plain": [
       "{1, 2, 3, 4, 5, 6}"
      ]
     },
     "execution_count": 1,
     "metadata": {},
     "output_type": "execute_result"
    }
   ],
   "source": [
    "# duplicate values will be automatically handled\n",
    "A = {1,1,2,2,3,4,5,6}\n",
    "A"
   ]
  },
  {
   "cell_type": "markdown",
   "id": "677b0b96",
   "metadata": {},
   "source": [
    "### Operations on Sets"
   ]
  },
  {
   "cell_type": "code",
   "execution_count": 4,
   "id": "53592839",
   "metadata": {},
   "outputs": [],
   "source": [
    "# Set of Indian cricket players who played world cup 2011 and 2015\n",
    "wc2011 = {'Dhoni','Sehwag','Tendulkar','Gambhir','Kohli','Raina','Yuvraj','Yusuf' }\n",
    "wc2015 = {'Dhoni','Dhawan','Rohit','Rahane','Kohli','Raina','Rayudu','Jadeja' }"
   ]
  },
  {
   "cell_type": "code",
   "execution_count": 5,
   "id": "b05a52c4",
   "metadata": {},
   "outputs": [
    {
     "data": {
      "text/plain": [
       "{'Dhawan',\n",
       " 'Dhoni',\n",
       " 'Gambhir',\n",
       " 'Jadeja',\n",
       " 'Kohli',\n",
       " 'Rahane',\n",
       " 'Raina',\n",
       " 'Rayudu',\n",
       " 'Rohit',\n",
       " 'Sehwag',\n",
       " 'Tendulkar',\n",
       " 'Yusuf',\n",
       " 'Yuvraj'}"
      ]
     },
     "execution_count": 5,
     "metadata": {},
     "output_type": "execute_result"
    }
   ],
   "source": [
    "# union of sets\n",
    "# It consider all the elements of both the sest and if repeated, takes for only once\n",
    "wc2011.union(wc2015)"
   ]
  },
  {
   "cell_type": "code",
   "execution_count": 7,
   "id": "21c039ef",
   "metadata": {},
   "outputs": [
    {
     "data": {
      "text/plain": [
       "{'Dhoni', 'Kohli', 'Raina'}"
      ]
     },
     "execution_count": 7,
     "metadata": {},
     "output_type": "execute_result"
    }
   ],
   "source": [
    "# intersection of sets\n",
    "# it takes the common elements present in the both sets\n",
    "# players who played both the world cups\n",
    "wc2011.intersection(wc2015)"
   ]
  },
  {
   "cell_type": "code",
   "execution_count": 8,
   "id": "6bb65a97",
   "metadata": {},
   "outputs": [
    {
     "data": {
      "text/plain": [
       "{'Dhawan', 'Jadeja', 'Rahane', 'Rayudu', 'Rohit'}"
      ]
     },
     "execution_count": 8,
     "metadata": {},
     "output_type": "execute_result"
    }
   ],
   "source": [
    "#difference of sets\n",
    "# A-B means only the elements of A but not B\n",
    "# suppose, we want only who played 2015 but not 2011 world cup\n",
    "wc2015.difference(wc2011)\n",
    "\n"
   ]
  },
  {
   "cell_type": "code",
   "execution_count": 9,
   "id": "fc03e7f8",
   "metadata": {},
   "outputs": [
    {
     "data": {
      "text/plain": [
       "8"
      ]
     },
     "execution_count": 9,
     "metadata": {},
     "output_type": "execute_result"
    }
   ],
   "source": [
    "len(wc2011)"
   ]
  },
  {
   "cell_type": "code",
   "execution_count": 10,
   "id": "3ad4ebda",
   "metadata": {},
   "outputs": [
    {
     "data": {
      "text/plain": [
       "8"
      ]
     },
     "execution_count": 10,
     "metadata": {},
     "output_type": "execute_result"
    }
   ],
   "source": [
    "len(wc2015)"
   ]
  }
 ],
 "metadata": {
  "kernelspec": {
   "display_name": "Python 3",
   "language": "python",
   "name": "python3"
  },
  "language_info": {
   "codemirror_mode": {
    "name": "ipython",
    "version": 3
   },
   "file_extension": ".py",
   "mimetype": "text/x-python",
   "name": "python",
   "nbconvert_exporter": "python",
   "pygments_lexer": "ipython3",
   "version": "3.14.0"
  }
 },
 "nbformat": 4,
 "nbformat_minor": 5
}
