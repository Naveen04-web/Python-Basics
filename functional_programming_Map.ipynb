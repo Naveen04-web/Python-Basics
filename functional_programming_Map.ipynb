{
 "cells": [
  {
   "cell_type": "markdown",
   "id": "928548ab",
   "metadata": {},
   "source": [
    "### Functional Programming\n",
    "* it supports functions being passed as parameters to another function\n",
    "* This allows to create a higher order functions"
   ]
  },
  {
   "cell_type": "markdown",
   "id": "210e96ee",
   "metadata": {},
   "source": [
    "### Example 1: Mapping"
   ]
  },
  {
   "cell_type": "code",
   "execution_count": 2,
   "id": "60f9dae2",
   "metadata": {},
   "outputs": [
    {
     "data": {
      "text/plain": [
       "[1, 4, 9, 16, 25, 36, 49, 64, 81, 100]"
      ]
     },
     "execution_count": 2,
     "metadata": {},
     "output_type": "execute_result"
    }
   ],
   "source": [
    "#Suppose, we want to find the squares of set of numbers, instead of using loop method such as for loop, we can use map()\n",
    "list_numbers =[1,2,3,4,5,6,7,8,9,10]\n",
    "def square_me(x):\n",
    "    return x*x\n",
    "square_list = map(square_me,list_numbers)\n",
    "list(square_list)"
   ]
  },
  {
   "cell_type": "code",
   "execution_count": 3,
   "id": "d6c6d995",
   "metadata": {},
   "outputs": [
    {
     "data": {
      "text/plain": [
       "[1, 4, 9, 16, 25, 36, 49, 64, 81, 100]"
      ]
     },
     "execution_count": 3,
     "metadata": {},
     "output_type": "execute_result"
    }
   ],
   "source": [
    "# It can be done by using the anonymous function also withou defining the square_me function\n",
    "square_list = map(lambda x:x*x,list_numbers)\n",
    "list(square_list)"
   ]
  },
  {
   "cell_type": "markdown",
   "id": "eed5aa64",
   "metadata": {},
   "source": [
    "### Example 2: Filtering"
   ]
  },
  {
   "cell_type": "code",
   "execution_count": 4,
   "id": "6831476a",
   "metadata": {},
   "outputs": [
    {
     "data": {
      "text/plain": [
       "[2, 4, 6, 8, 10]"
      ]
     },
     "execution_count": 4,
     "metadata": {},
     "output_type": "execute_result"
    }
   ],
   "source": [
    "# Let us filter even numbers and odd numbers from the list_numbers\n",
    "even_numbers = filter(lambda x: x % 2 ==0, list_numbers)\n",
    "list(even_numbers)"
   ]
  },
  {
   "cell_type": "code",
   "execution_count": 5,
   "id": "b412536f",
   "metadata": {},
   "outputs": [
    {
     "data": {
      "text/plain": [
       "[1, 3, 5, 7, 9]"
      ]
     },
     "execution_count": 5,
     "metadata": {},
     "output_type": "execute_result"
    }
   ],
   "source": [
    "odd_numbers = filter(lambda x: x % 2 !=0, list_numbers)\n",
    "list(odd_numbers)"
   ]
  },
  {
   "cell_type": "markdown",
   "id": "7a9299ea",
   "metadata": {},
   "source": [
    "### Modules and Packages"
   ]
  },
  {
   "cell_type": "code",
   "execution_count": 6,
   "id": "09efe84a",
   "metadata": {},
   "outputs": [
    {
     "data": {
      "text/plain": [
       "4.358898943540674"
      ]
     },
     "execution_count": 6,
     "metadata": {},
     "output_type": "execute_result"
    }
   ],
   "source": [
    "# For Mathematical operations\n",
    "import math\n",
    "math. sqrt(19)"
   ]
  },
  {
   "cell_type": "code",
   "execution_count": 10,
   "id": "24a972be",
   "metadata": {},
   "outputs": [
    {
     "data": {
      "text/plain": [
       "[17,\n",
       " 14,\n",
       " 61,\n",
       " 83,\n",
       " 44,\n",
       " 1,\n",
       " 90,\n",
       " 92,\n",
       " 11,\n",
       " 62,\n",
       " 66,\n",
       " 65,\n",
       " 31,\n",
       " 40,\n",
       " 26,\n",
       " 70,\n",
       " 98,\n",
       " 97,\n",
       " 7,\n",
       " 50,\n",
       " 60,\n",
       " 89,\n",
       " 12,\n",
       " 32,\n",
       " 68]"
      ]
     },
     "execution_count": 10,
     "metadata": {},
     "output_type": "execute_result"
    }
   ],
   "source": [
    "# To select random sample\n",
    "from random import sample\n",
    "random_list = sample(range(0,100),25)\n",
    "random_list"
   ]
  },
  {
   "cell_type": "code",
   "execution_count": 11,
   "id": "f0dadb88",
   "metadata": {},
   "outputs": [
    {
     "data": {
      "text/plain": [
       "(51.44, 30.958412965352945)"
      ]
     },
     "execution_count": 11,
     "metadata": {},
     "output_type": "execute_result"
    }
   ],
   "source": [
    "from statistics import mean,stdev\n",
    "def get_statistics(listnumbers):\n",
    "    return mean(listnumbers),stdev(listnumbers)\n",
    "mean,stdev = get_statistics(random_list)\n",
    "mean, stdev"
   ]
  }
 ],
 "metadata": {
  "kernelspec": {
   "display_name": "Python 3",
   "language": "python",
   "name": "python3"
  },
  "language_info": {
   "codemirror_mode": {
    "name": "ipython",
    "version": 3
   },
   "file_extension": ".py",
   "mimetype": "text/x-python",
   "name": "python",
   "nbconvert_exporter": "python",
   "pygments_lexer": "ipython3",
   "version": "3.14.0"
  }
 },
 "nbformat": 4,
 "nbformat_minor": 5
}
