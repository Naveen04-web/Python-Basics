{
 "cells": [
  {
   "cell_type": "markdown",
   "id": "e7e55e69",
   "metadata": {},
   "source": [
    "### Functions\n",
    "1. Functions can be created by using def keyword\n",
    "2. The function signature should contain the function name followed by the input parameters enclosed in brackets and must end with a colon(:)\n",
    "3. Parameters are optional if intialized in the definition\n",
    "4. The function ends with return statment."
   ]
  },
  {
   "cell_type": "markdown",
   "id": "fc16eaf9",
   "metadata": {},
   "source": [
    "### Example 1: adding two integers"
   ]
  },
  {
   "cell_type": "code",
   "execution_count": 1,
   "id": "98e5a17b",
   "metadata": {},
   "outputs": [
    {
     "data": {
      "text/plain": [
       "5"
      ]
     },
     "execution_count": 1,
     "metadata": {},
     "output_type": "execute_result"
    }
   ],
   "source": [
    "def addElements(a,b):\n",
    "    return a + b\n",
    "results = addElements(2,3)\n",
    "results"
   ]
  },
  {
   "cell_type": "markdown",
   "id": "8a93f7df",
   "metadata": {},
   "source": [
    "### Example 2: Adding two floating numbers"
   ]
  },
  {
   "cell_type": "code",
   "execution_count": 2,
   "id": "d7f5a335",
   "metadata": {},
   "outputs": [
    {
     "data": {
      "text/plain": [
       "14.3"
      ]
     },
     "execution_count": 2,
     "metadata": {},
     "output_type": "execute_result"
    }
   ],
   "source": [
    "results = addElements(6.5,7.8)\n",
    "results"
   ]
  },
  {
   "cell_type": "markdown",
   "id": "e5aae425",
   "metadata": {},
   "source": [
    "### Example 3: adding strings"
   ]
  },
  {
   "cell_type": "code",
   "execution_count": 3,
   "id": "66649596",
   "metadata": {},
   "outputs": [
    {
     "data": {
      "text/plain": [
       "'PythonBasics'"
      ]
     },
     "execution_count": 3,
     "metadata": {},
     "output_type": "execute_result"
    }
   ],
   "source": [
    "results = addElements(\"Python\",\"Basics\")\n",
    "results"
   ]
  },
  {
   "cell_type": "markdown",
   "id": "c3c52f51",
   "metadata": {},
   "source": [
    "### Example 4: Finding the area of a circle with given radius r"
   ]
  },
  {
   "cell_type": "code",
   "execution_count": 5,
   "id": "47ce8be5",
   "metadata": {},
   "outputs": [
    {
     "data": {
      "text/plain": [
       "12.56"
      ]
     },
     "execution_count": 5,
     "metadata": {},
     "output_type": "execute_result"
    }
   ],
   "source": [
    "def area(r):\n",
    "    Formula = 3.14*r**2\n",
    "    return Formula\n",
    "Area_Circle = area(2)\n",
    "Area_Circle"
   ]
  },
  {
   "cell_type": "markdown",
   "id": "1e85abf9",
   "metadata": {},
   "source": [
    "### Example 5: Finding the area of the rectangle with given length (l) and breadth (b)"
   ]
  },
  {
   "cell_type": "code",
   "execution_count": 8,
   "id": "6d17c8f4",
   "metadata": {},
   "outputs": [
    {
     "data": {
      "text/plain": [
       "12"
      ]
     },
     "execution_count": 8,
     "metadata": {},
     "output_type": "execute_result"
    }
   ],
   "source": [
    "def Rectangle(l,b):\n",
    "    Formula = l * b\n",
    "    return Formula\n",
    "Area_Rectangle = Rectangle (4,3)\n",
    "Area_Rectangle"
   ]
  },
  {
   "cell_type": "markdown",
   "id": "649ec5e1",
   "metadata": {},
   "source": [
    "### Example 6: Finding Greatest number among three numbers a, b, c"
   ]
  },
  {
   "cell_type": "code",
   "execution_count": 18,
   "id": "53163cb9",
   "metadata": {},
   "outputs": [
    {
     "name": "stdout",
     "output_type": "stream",
     "text": [
      "The largest number is: 200\n"
     ]
    }
   ],
   "source": [
    "def great(a,b,c):\n",
    "    if a>=b and a>=c:\n",
    "        return a\n",
    "    elif b>=a and b>=c:\n",
    "        return b\n",
    "    else:\n",
    "        return c\n",
    "Largest_number = great(20,200,34)\n",
    "print(\"The largest number is:\", Largest_number)\n"
   ]
  }
 ],
 "metadata": {
  "kernelspec": {
   "display_name": "Python 3",
   "language": "python",
   "name": "python3"
  },
  "language_info": {
   "codemirror_mode": {
    "name": "ipython",
    "version": 3
   },
   "file_extension": ".py",
   "mimetype": "text/x-python",
   "name": "python",
   "nbconvert_exporter": "python",
   "pygments_lexer": "ipython3",
   "version": "3.14.0"
  }
 },
 "nbformat": 4,
 "nbformat_minor": 5
}
