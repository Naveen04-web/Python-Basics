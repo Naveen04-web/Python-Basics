{
 "cells": [
  {
   "cell_type": "markdown",
   "id": "b959dbdb",
   "metadata": {},
   "source": [
    "Collections are useful data structures to store and manipulate list of homogeneous or heterogeneous elements. The main collection data structures are:\n",
    "1. List\n",
    "2. Tuple\n",
    "3. Set\n",
    "4. Dictionary"
   ]
  },
  {
   "cell_type": "markdown",
   "id": "fae0d1e7",
   "metadata": {},
   "source": [
    "### List\n",
    "* lists are like arrays but can contain heterogeneous items\n",
    "* A single list can contain items of type integer, float, string or objects\n",
    "* It is not a unique set of items\n",
    "* The values can repeat\n",
    "* Lists are mutuable and generally initialized with an empty lsit or specific values in the sqaure brackets\n",
    "* Lists are represented in the form of square brackets [ ]\n",
    "* The list index starts with 0"
   ]
  },
  {
   "cell_type": "code",
   "execution_count": 2,
   "id": "2894d763",
   "metadata": {},
   "outputs": [],
   "source": [
    "# list of batsmen and bowlers in Indian cricket team\n",
    "batsmen = ['Rohit','Kohli','Dhoni','Gil','Hardik']\n",
    "bowlers = ['Bumrah', 'Shami', 'Jaddu','Kuldeep','Chahal']"
   ]
  },
  {
   "cell_type": "code",
   "execution_count": 3,
   "id": "e09bc218",
   "metadata": {},
   "outputs": [
    {
     "data": {
      "text/plain": [
       "('Rohit', 'Kuldeep')"
      ]
     },
     "execution_count": 3,
     "metadata": {},
     "output_type": "execute_result"
    }
   ],
   "source": [
    "a=batsmen[0]\n",
    "b=bowlers[3]\n",
    "a, b"
   ]
  },
  {
   "cell_type": "markdown",
   "id": "87f22fe6",
   "metadata": {},
   "source": [
    "### Slicing the list"
   ]
  },
  {
   "cell_type": "code",
   "execution_count": 4,
   "id": "9a01de4a",
   "metadata": {},
   "outputs": [
    {
     "data": {
      "text/plain": [
       "['Rohit', 'Kohli', 'Dhoni']"
      ]
     },
     "execution_count": 4,
     "metadata": {},
     "output_type": "execute_result"
    }
   ],
   "source": [
    "# it gives from the staarting index to 1 minus the last index number\n",
    "batsmen[0:3]"
   ]
  },
  {
   "cell_type": "code",
   "execution_count": 5,
   "id": "e3cde7b6",
   "metadata": {},
   "outputs": [
    {
     "data": {
      "text/plain": [
       "'Chahal'"
      ]
     },
     "execution_count": 5,
     "metadata": {},
     "output_type": "execute_result"
    }
   ],
   "source": [
    "# to find the last entry or element we use the index value of -1\n",
    "bowlers[-1]"
   ]
  },
  {
   "cell_type": "code",
   "execution_count": 6,
   "id": "486227cd",
   "metadata": {},
   "outputs": [
    {
     "data": {
      "text/plain": [
       "'Hardik'"
      ]
     },
     "execution_count": 6,
     "metadata": {},
     "output_type": "execute_result"
    }
   ],
   "source": [
    "batsmen[-1]"
   ]
  },
  {
   "cell_type": "code",
   "execution_count": 7,
   "id": "bd5a81a4",
   "metadata": {},
   "outputs": [
    {
     "data": {
      "text/plain": [
       "5"
      ]
     },
     "execution_count": 7,
     "metadata": {},
     "output_type": "execute_result"
    }
   ],
   "source": [
    "# To find the number of elements/entries of the list OR To find the length of the list, we use len() function\n",
    "len(batsmen)"
   ]
  },
  {
   "cell_type": "code",
   "execution_count": 8,
   "id": "d79d8d5e",
   "metadata": {},
   "outputs": [
    {
     "data": {
      "text/plain": [
       "5"
      ]
     },
     "execution_count": 8,
     "metadata": {},
     "output_type": "execute_result"
    }
   ],
   "source": [
    "len(bowlers)"
   ]
  },
  {
   "cell_type": "code",
   "execution_count": 9,
   "id": "62beb9eb",
   "metadata": {},
   "outputs": [
    {
     "data": {
      "text/plain": [
       "1"
      ]
     },
     "execution_count": 9,
     "metadata": {},
     "output_type": "execute_result"
    }
   ],
   "source": [
    "# List of different types\n",
    "list = ['Naveen',1,True,20.56]\n",
    "list[1]"
   ]
  },
  {
   "cell_type": "code",
   "execution_count": 10,
   "id": "8b024bed",
   "metadata": {},
   "outputs": [
    {
     "data": {
      "text/plain": [
       "True"
      ]
     },
     "execution_count": 10,
     "metadata": {},
     "output_type": "execute_result"
    }
   ],
   "source": [
    "list[2]"
   ]
  },
  {
   "cell_type": "code",
   "execution_count": 11,
   "id": "5791b2ac",
   "metadata": {},
   "outputs": [
    {
     "data": {
      "text/plain": [
       "20.56"
      ]
     },
     "execution_count": 11,
     "metadata": {},
     "output_type": "execute_result"
    }
   ],
   "source": [
    "list[3]"
   ]
  },
  {
   "cell_type": "code",
   "execution_count": 12,
   "id": "2e40103e",
   "metadata": {},
   "outputs": [
    {
     "data": {
      "text/plain": [
       "float"
      ]
     },
     "execution_count": 12,
     "metadata": {},
     "output_type": "execute_result"
    }
   ],
   "source": [
    "type(list[3])"
   ]
  },
  {
   "cell_type": "code",
   "execution_count": 13,
   "id": "149bc4ce",
   "metadata": {},
   "outputs": [
    {
     "data": {
      "text/plain": [
       "bool"
      ]
     },
     "execution_count": 13,
     "metadata": {},
     "output_type": "execute_result"
    }
   ],
   "source": [
    "type(list[2])"
   ]
  },
  {
   "cell_type": "code",
   "execution_count": 14,
   "id": "aed24ea7",
   "metadata": {},
   "outputs": [
    {
     "data": {
      "text/plain": [
       "str"
      ]
     },
     "execution_count": 14,
     "metadata": {},
     "output_type": "execute_result"
    }
   ],
   "source": [
    "type(list[0])"
   ]
  },
  {
   "cell_type": "code",
   "execution_count": 15,
   "id": "c970cf3c",
   "metadata": {},
   "outputs": [
    {
     "data": {
      "text/plain": [
       "int"
      ]
     },
     "execution_count": 15,
     "metadata": {},
     "output_type": "execute_result"
    }
   ],
   "source": [
    "type(list[1])"
   ]
  },
  {
   "cell_type": "markdown",
   "id": "3f24ac85",
   "metadata": {},
   "source": [
    "### Concatenating two list with the operator +"
   ]
  },
  {
   "cell_type": "code",
   "execution_count": 16,
   "id": "c4bf071a",
   "metadata": {},
   "outputs": [
    {
     "data": {
      "text/plain": [
       "['Rohit',\n",
       " 'Kohli',\n",
       " 'Dhoni',\n",
       " 'Gil',\n",
       " 'Hardik',\n",
       " 'Bumrah',\n",
       " 'Shami',\n",
       " 'Jaddu',\n",
       " 'Kuldeep',\n",
       " 'Chahal']"
      ]
     },
     "execution_count": 16,
     "metadata": {},
     "output_type": "execute_result"
    }
   ],
   "source": [
    "all_players = batsmen + bowlers\n",
    "all_players"
   ]
  },
  {
   "cell_type": "code",
   "execution_count": 17,
   "id": "01affa90",
   "metadata": {},
   "outputs": [
    {
     "data": {
      "text/plain": [
       "['Rohit', 'Kohli', 'Dhoni', 'Gil', 'Hardik']"
      ]
     },
     "execution_count": 17,
     "metadata": {},
     "output_type": "execute_result"
    }
   ],
   "source": [
    "# By defalut it takes from index number 0 if you dont mention the range of the index numbers and continue to 1 less than the end index number\n",
    "\n",
    "all_players[:5]"
   ]
  },
  {
   "cell_type": "code",
   "execution_count": 18,
   "id": "8469af3d",
   "metadata": {},
   "outputs": [
    {
     "data": {
      "text/plain": [
       "['Hardik', 'Bumrah', 'Shami', 'Jaddu', 'Kuldeep', 'Chahal']"
      ]
     },
     "execution_count": 18,
     "metadata": {},
     "output_type": "execute_result"
    }
   ],
   "source": [
    "# This list starts after the given index number\n",
    "all_players[4:]"
   ]
  },
  {
   "cell_type": "code",
   "execution_count": 19,
   "id": "12f38478",
   "metadata": {},
   "outputs": [
    {
     "data": {
      "text/plain": [
       "'Kuldeep'"
      ]
     },
     "execution_count": 19,
     "metadata": {},
     "output_type": "execute_result"
    }
   ],
   "source": [
    "# second entry from the right end\n",
    "all_players[-2]"
   ]
  },
  {
   "cell_type": "code",
   "execution_count": 20,
   "id": "69492e5c",
   "metadata": {},
   "outputs": [
    {
     "data": {
      "text/plain": [
       "['Rohit', 'Kohli', 'Dhoni']"
      ]
     },
     "execution_count": 20,
     "metadata": {},
     "output_type": "execute_result"
    }
   ],
   "source": [
    "all_players[:3]"
   ]
  },
  {
   "cell_type": "markdown",
   "id": "ee5942a0",
   "metadata": {},
   "source": [
    "### To check if an item exists in a list or not\n",
    "For this we use in operator and it returns True or False if exists or not exists respectively"
   ]
  },
  {
   "cell_type": "code",
   "execution_count": 21,
   "id": "56f1bfc7",
   "metadata": {},
   "outputs": [
    {
     "data": {
      "text/plain": [
       "True"
      ]
     },
     "execution_count": 21,
     "metadata": {},
     "output_type": "execute_result"
    }
   ],
   "source": [
    "'Rohit' in batsmen"
   ]
  },
  {
   "cell_type": "code",
   "execution_count": 22,
   "id": "748b7a95",
   "metadata": {},
   "outputs": [
    {
     "data": {
      "text/plain": [
       "False"
      ]
     },
     "execution_count": 22,
     "metadata": {},
     "output_type": "execute_result"
    }
   ],
   "source": [
    "'Rohit' in bowlers"
   ]
  },
  {
   "cell_type": "code",
   "execution_count": 23,
   "id": "8bf1b2ab",
   "metadata": {},
   "outputs": [
    {
     "data": {
      "text/plain": [
       "True"
      ]
     },
     "execution_count": 23,
     "metadata": {},
     "output_type": "execute_result"
    }
   ],
   "source": [
    "1 in list"
   ]
  },
  {
   "cell_type": "markdown",
   "id": "64ad7177",
   "metadata": {},
   "source": [
    "### Finding the index of an item of a list"
   ]
  },
  {
   "cell_type": "code",
   "execution_count": 24,
   "id": "3e9fe9f4",
   "metadata": {},
   "outputs": [
    {
     "data": {
      "text/plain": [
       "2"
      ]
     },
     "execution_count": 24,
     "metadata": {},
     "output_type": "execute_result"
    }
   ],
   "source": [
    "all_players.index('Dhoni')"
   ]
  },
  {
   "cell_type": "code",
   "execution_count": 25,
   "id": "28ec93d8",
   "metadata": {},
   "outputs": [
    {
     "data": {
      "text/plain": [
       "3"
      ]
     },
     "execution_count": 25,
     "metadata": {},
     "output_type": "execute_result"
    }
   ],
   "source": [
    "all_players.index('Gil')"
   ]
  },
  {
   "cell_type": "code",
   "execution_count": 26,
   "id": "330bc2fb",
   "metadata": {},
   "outputs": [
    {
     "data": {
      "text/plain": [
       "8"
      ]
     },
     "execution_count": 26,
     "metadata": {},
     "output_type": "execute_result"
    }
   ],
   "source": [
    "all_players.index('Kuldeep')"
   ]
  },
  {
   "cell_type": "code",
   "execution_count": 27,
   "id": "ad43f289",
   "metadata": {},
   "outputs": [
    {
     "data": {
      "text/plain": [
       "int"
      ]
     },
     "execution_count": 27,
     "metadata": {},
     "output_type": "execute_result"
    }
   ],
   "source": [
    "type(all_players.index('Kuldeep'))"
   ]
  },
  {
   "cell_type": "markdown",
   "id": "d36d74d9",
   "metadata": {},
   "source": [
    "### Mutability of list"
   ]
  },
  {
   "cell_type": "code",
   "execution_count": null,
   "id": "61697f47",
   "metadata": {},
   "outputs": [
    {
     "data": {
      "text/plain": [
       "['Rohit Sharma',\n",
       " 'Kohli',\n",
       " 'Dhoni',\n",
       " 'Gil',\n",
       " 'Hardik',\n",
       " 'Bumrah',\n",
       " 'Shami',\n",
       " 'Jaddu',\n",
       " 'Kuldeep',\n",
       " 'Sachin']"
      ]
     },
     "execution_count": 28,
     "metadata": {},
     "output_type": "execute_result"
    }
   ],
   "source": [
    "all_players[0]='Rohit Sharma'  # Change element\n",
    "all_players.append('Sachin')    # Add element\n",
    "all_players.remove ('Chahal')   # Remove element\n",
    "all_players"
   ]
  }
 ],
 "metadata": {
  "kernelspec": {
   "display_name": "Python 3",
   "language": "python",
   "name": "python3"
  },
  "language_info": {
   "codemirror_mode": {
    "name": "ipython",
    "version": 3
   },
   "file_extension": ".py",
   "mimetype": "text/x-python",
   "name": "python",
   "nbconvert_exporter": "python",
   "pygments_lexer": "ipython3",
   "version": "3.14.0"
  }
 },
 "nbformat": 4,
 "nbformat_minor": 5
}
